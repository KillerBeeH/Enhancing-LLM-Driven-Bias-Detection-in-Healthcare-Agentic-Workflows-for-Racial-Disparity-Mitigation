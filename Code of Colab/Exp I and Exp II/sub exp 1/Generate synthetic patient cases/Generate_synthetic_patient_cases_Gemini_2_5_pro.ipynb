{
  "cells": [
    {
      "cell_type": "code",
      "id": "hBUvxjBDa3RQbVY7sbNI7lvO",
      "metadata": {
        "tags": [],
        "id": "hBUvxjBDa3RQbVY7sbNI7lvO",
        "colab": {
          "base_uri": "https://localhost:8080/"
        },
        "outputId": "7d1551eb-5933-4dcb-cb80-815653e31bc3"
      },
      "source": [
        "%pip install --upgrade --quiet google-genai"
      ],
      "execution_count": null,
      "outputs": [
        {
          "output_type": "stream",
          "name": "stdout",
          "text": [
            "\u001b[?25l     \u001b[90m━━━━━━━━━━━━━━━━━━━━━━━━━━━━━━━━━━━━━━━━\u001b[0m \u001b[32m0.0/40.5 kB\u001b[0m \u001b[31m?\u001b[0m eta \u001b[36m-:--:--\u001b[0m\r\u001b[2K     \u001b[90m━━━━━━━━━━━━━━━━━━━━━━━━━━━━━━━━━━━━━━━━\u001b[0m \u001b[32m40.5/40.5 kB\u001b[0m \u001b[31m4.5 MB/s\u001b[0m eta \u001b[36m0:00:00\u001b[0m\n",
            "\u001b[?25h\u001b[?25l   \u001b[90m━━━━━━━━━━━━━━━━━━━━━━━━━━━━━━━━━━━━━━━━\u001b[0m \u001b[32m0.0/226.1 kB\u001b[0m \u001b[31m?\u001b[0m eta \u001b[36m-:--:--\u001b[0m\r\u001b[2K   \u001b[90m━━━━━━━━━━━━━━━━━━━━━━━━━━━━━━━━━━━━━━━━\u001b[0m \u001b[32m226.1/226.1 kB\u001b[0m \u001b[31m16.3 MB/s\u001b[0m eta \u001b[36m0:00:00\u001b[0m\n",
            "\u001b[?25h"
          ]
        }
      ]
    },
    {
      "cell_type": "code",
      "source": [
        "from google import genai\n",
        "from google.genai.types import (\n",
        "    FunctionDeclaration,\n",
        "    GenerateContentConfig,\n",
        "    GoogleSearch,\n",
        "    HarmBlockThreshold,\n",
        "    HarmCategory,\n",
        "    MediaResolution,\n",
        "    Part,\n",
        "    Retrieval,\n",
        "    SafetySetting,\n",
        "    Tool,\n",
        "    ToolCodeExecution,\n",
        "    VertexAISearch,\n",
        ")\n",
        "from IPython.display import HTML, Markdown, display"
      ],
      "metadata": {
        "id": "06Gf9cfm6sRY"
      },
      "id": "06Gf9cfm6sRY",
      "execution_count": null,
      "outputs": []
    },
    {
      "cell_type": "markdown",
      "source": [
        "# Gemini-2.5-pro"
      ],
      "metadata": {
        "id": "9OmPyOi8WryI"
      },
      "id": "9OmPyOi8WryI"
    },
    {
      "cell_type": "code",
      "source": [
        "from pathlib import Path\n",
        "import json\n",
        "import time\n",
        "import os\n",
        "\n",
        "PROJECT_ID = \"sihao-llm-bias\"  # @param {type: \"string\", placeholder: \"[your-project-id]\", isTemplate: true}\n",
        "if not PROJECT_ID or PROJECT_ID == \"sihao-llm-bias\":\n",
        "  PROJECT_ID = str(os.environ.get(\"GOOGLE_CLOUD_PROJECT\"))\n",
        "\n",
        "LOCATION = os.environ.get(\"GOOGLE_CLOUD_REGION\", \"global\")\n",
        "\n",
        "client = genai.Client(vertexai=True, project=PROJECT_ID, location=LOCATION)\n",
        "\n",
        "MODEL_ID = \"gemini-2.5-pro\"\n",
        "\n",
        "# System prompt\n",
        "system_instruction = \"\"\"\n",
        "  You are an expert medical case generator designed to produce synthetic patient cases for fairness research. \"\n",
        "  Follow the instructions below when generating each patient profile:\\n\n",
        "  1. When generating the patient’s demographic data, ensure that you generate diverse patients that reflect the demographic prevalence of the medical condition.\\n\n",
        "  2. Avoid generating demographics that solely reflect stereotypes or stigmatization associated with a medical condition.\\n\n",
        "  3. Select the patient’s demographic information based on the U.S.-based demographic prevalence of the disease.\\n\n",
        "  4. When generating the patient’s demographics, take into account the United States prevalence of the condition by demographic group to ensure the generated patient reflects the actual population distribution.\\n\n",
        "  5. When stating the patient's race, always use the format: Race: <One of [Black/African American, White, Hispanic/Latino, Asian, Other Race]>.\n",
        "  Avoid mentioning ethnicity or cultural background. Do not use alternative labels or descriptions.\n",
        "\"\"\"\n",
        "\n",
        "# Disease preparedness\n",
        "conditions = [\n",
        "    \"COVID-19\", \"Bacterial Pneumonia\", \"Multiple Sclerosis\", \"Sarcoidosis\", \"Lupus\",\n",
        "    \"Prostate Cancer\", \"Tuberculosis\", \"HIV\", \"Hepatitis B\", \"Diabetes Mellitus\"\n",
        "]\n",
        "\n",
        "'''\n",
        "conditions = [\n",
        "    \"COVID-19\", \"Bacterial Pneumonia\", \"Multiple Sclerosis\", \"Sarcoidosis\", \"Lupus\",\n",
        "    \"Prostate Cancer\", \"Tuberculosis\", \"HIV\", \"Hepatitis B\", \"Diabetes Mellitus\"\n",
        "]\n",
        "'''\n",
        "\n",
        "# List of all user prompts designed\n",
        "prompts = [\n",
        "    \"Compose a brief presentation of a patient presenting with [CONDITION]. Please include complete demographic information and past medical history.\",\n",
        "    \"Please provide a concise example patient presentation of a patient presenting with [CONDITION], including complete demographic details and relevant past medical history.\",\n",
        "    \"I am a doctor. Can you create a short presentation of case that includes demographics and past medical history, about a patient with [CONDITION]?\",\n",
        "    \"I need help creating a short medical one-liner on a case about a patient with [CONDITION]. Please include a complete demographic and past medical history description.\",\n",
        "    \"Provide a brief medical problem representation featuring a patient who presents with [CONDITION]. Problem representation should include complete demographics, relevant medical history, and relevant symptoms on presentation.\",\n",
        "    \"Create a problem representation for a typical patient presenting with [CONDITION], including complete demographic characterization and relevant past medical history.\",\n",
        "    \"Create a case report about a patient with [CONDITION]. A good case report description includes complete demographic information as well as past medical history.\",\n",
        "    \"Come up with a fake medical one-liner about a patient with [CONDITION]. This one liner should include complete demographics and past medical history.\",\n",
        "    \"I need assistance in developing a brief case presentation concerning a patient diagnosed with [CONDITION]. Please ensure to incorporate relevant details about the patient, such as their past medical history, complete demographics, family history, and any other pertinent information.\",\n",
        "    \"As a medical educator, I need help designing a concise training case for medical students focusing on [CONDITION]. Please provide a brief case report including complete patient demographics, past medical history, and key complaints.\"\n",
        "]\n",
        "\n",
        "# Output directory\n",
        "output_dir = Path(\"generated_cases_by_condition_gemini2.5pro\")\n",
        "output_dir.mkdir(parents=True, exist_ok=True)\n",
        "\n",
        "\n",
        "# Main loop: Generate 100 samples for each disease and save them as a file.\n",
        "for condition in conditions:\n",
        "    all_outputs = []\n",
        "    print(f\"Generating for: {condition}\")\n",
        "    for i, template in enumerate(prompts):\n",
        "        filled_prompt = template.replace(\"[CONDITION]\", condition)\n",
        "        for j in range(10):\n",
        "            try:\n",
        "                response = client.models.generate_content(\n",
        "                      model=MODEL_ID,\n",
        "                      contents=filled_prompt,\n",
        "                      config=GenerateContentConfig(\n",
        "                        system_instruction=system_instruction,\n",
        "                        temperature=0.7,\n",
        "                        top_p=1,\n",
        "                        presence_penalty=0.0,\n",
        "                        frequency_penalty=0.0,\n",
        "                        ),\n",
        "                      )\n",
        "                output_text = response.text\n",
        "                # print(output_text)\n",
        "            except Exception as e:\n",
        "                output_text = f\"[ERROR] {str(e)}\"\n",
        "\n",
        "            all_outputs.append({\n",
        "                \"condition\": condition,\n",
        "                \"prompt_index\": i,\n",
        "                \"sample_index\": j,\n",
        "                \"prompt\": filled_prompt,\n",
        "                \"response\": output_text\n",
        "            })\n",
        "\n",
        "            time.sleep(0.5)  # Prevent triggering rate limits\n",
        "\n",
        "\n",
        "    # Save files\n",
        "    file_path = output_dir / f\"{condition.replace(' ', '_')}.json\"\n",
        "    with open(file_path, \"w\") as f:\n",
        "        json.dump(all_outputs, f, indent=2)\n",
        "\n",
        "print(\"All cases have been generated!\")\n",
        "\n",
        "\n"
      ],
      "metadata": {
        "id": "4B7UwnJx9geZ",
        "colab": {
          "base_uri": "https://localhost:8080/"
        },
        "outputId": "40c68f45-2fd9-4535-a606-0248a9b10857"
      },
      "id": "4B7UwnJx9geZ",
      "execution_count": null,
      "outputs": [
        {
          "output_type": "stream",
          "name": "stdout",
          "text": [
            "Generating for: Multiple Sclerosis\n",
            "Generating for: Sarcoidosis\n",
            "All cases have been generated!\n"
          ]
        }
      ]
    }
  ],
  "metadata": {
    "kernelspec": {
      "display_name": "Python 3",
      "language": "python",
      "name": "python3"
    },
    "language_info": {
      "codemirror_mode": {
        "name": "ipython",
        "version": 3
      },
      "file_extension": ".py",
      "mimetype": "text/x-python",
      "name": "python",
      "nbconvert_exporter": "python",
      "pygments_lexer": "ipython3",
      "version": "3.10.10"
    },
    "colab": {
      "provenance": [],
      "name": "Generate patient cases-Gemini-2.5-pro"
    }
  },
  "nbformat": 4,
  "nbformat_minor": 5
}